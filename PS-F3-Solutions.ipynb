{
 "cells": [
  {
   "cell_type": "markdown",
   "id": "2a8e87d6-2e37-4118-bc61-b506adc84a0f",
   "metadata": {},
   "source": [
    "# Problem Set F3 Solutions\n",
    "\n",
    "_PHY 323 Spring 2024, Prof. Ian Beatty_"
   ]
  },
  {
   "cell_type": "markdown",
   "id": "1e50c094-80d1-4252-8ba2-0304ea6758ec",
   "metadata": {},
   "source": [
    "## Problem 1: Taylor 1.45: Derivatives of Vectors with Constant Magnitude"
   ]
  },
  {
   "cell_type": "markdown",
   "id": "2c923501",
   "metadata": {},
   "source": [
    "> The problem set handout erroneously says \"Taylor 1.43\", when I meant to assign \"Taylor 1.45\". The \"sage advice\" should have been a giveaway, and I tried to clarify in class when someone pointed out the apparent inconsistency. However, if you submitted a solution to 1.43 instead, I accepted and graded that. **Sorry!**"
   ]
  },
  {
   "cell_type": "markdown",
   "id": "3d8cf16b",
   "metadata": {},
   "source": [
    "As the problem advises, we'll start with the specified equation and take the time derivative of both sides applying the chain rule and product rule and such.\n",
    "\n",
    "$$ \\begin{align} \n",
    "    v^2 &= \\vec{v} \\cdot \\vec{v} \\\\\n",
    "    \\Rightarrow \\ \\frac{d}{dt} \\left( v^2 \\right) &= \\frac{d}{dt} \\left( \\vec{v} \\cdot \\vec{v} \\right) \\\\\n",
    "    \\Rightarrow \\ 2\\,v\\, \\frac{dv}{dt} &= \\left( \\frac{d\\vec{v}}{dt} \\cdot \\vec{v} \\right) + \\left( \\vec{v} \\cdot \\frac{d\\vec{v}}{dt} \\right)\n",
    "        = 2\\,\\vec{v} \\cdot \\frac{d\\vec{v}}{dt} \\\\\n",
    "    \\Rightarrow \\ 0 &= \\vec{v} \\cdot \\frac{d\\vec{v}}{dt} = \\left| \\vec{v} \\right| \\, \\left| \\frac{d\\vec{v}}{dt} \\right| \\, \\cos(\\theta) \\\\\n",
    "    \\Rightarrow \\ \\cos(\\theta) &= 90^\\circ \\quad \\text{QED}\n",
    "\\end{align} $$"
   ]
  },
  {
   "cell_type": "markdown",
   "id": "bd10c53e",
   "metadata": {},
   "source": [
    "Where line (4) follows line (3) because the problem specifies that the vector has constant magnitude, i.e., $dv/dt = 0$."
   ]
  },
  {
   "cell_type": "markdown",
   "id": "4b977959",
   "metadata": {},
   "source": [
    "---"
   ]
  },
  {
   "cell_type": "markdown",
   "id": "628bb487-d42e-4b74-9549-cb1ab030722c",
   "metadata": {},
   "source": [
    "## Problem 2: The Dizzy Bee"
   ]
  },
  {
   "cell_type": "markdown",
   "id": "6d5911eb",
   "metadata": {},
   "source": [
    "The bee's position coordinates are given as:\n",
    "\n",
    "$$ r(t) = b\\,e^{kt} \\quad \\text{and} \\quad \\phi = c\\,t $$\n",
    "\n",
    "We'll need first and second time derivatives of those, so I'll go ahead and determine those now:\n",
    "\n",
    "$$ \\dot{r} \\equiv \\frac{d}{dt} r(t) = b\\,k\\,e^{kt} \\quad \\text{and} \\quad \\ddot{r} \\equiv \\frac{d^2}{dt^2} r(t) = b\\,k^2\\,e^{kt} $$\n",
    "\n",
    "$$ \\dot{\\phi} \\equiv \\frac{d}{dt} \\phi = c \\quad \\text{and} \\quad \\ddot{\\phi} \\equiv \\frac{d^2}{dt^2} \\phi = 0 $$"
   ]
  },
  {
   "cell_type": "markdown",
   "id": "bf986050",
   "metadata": {},
   "source": [
    "### a) Velocity vector"
   ]
  },
  {
   "cell_type": "markdown",
   "id": "07954cb8",
   "metadata": {},
   "source": [
    "Using the expression given in class and the text for the velocity vector in polar coordinates, \n",
    "\n",
    "$$ \\vec{v} = \\dot{r} \\hat{r} + r \\dot{\\phi} \\hat{\\phi} $$\n",
    "\n",
    "$$ \\Rightarrow \\boxed{ \\vec{v} = \\left( b\\,k\\,e^{kt} \\right) \\hat{r} + \\left( b\\,e^{kt}\\,c \\right) \\hat{\\phi} } $$"
   ]
  },
  {
   "cell_type": "markdown",
   "id": "21d274b4",
   "metadata": {},
   "source": [
    "### b) Acceleration vector"
   ]
  },
  {
   "cell_type": "markdown",
   "id": "564eed90",
   "metadata": {},
   "source": [
    "Using the analogous expression for the acceleration vector in polar coordinates,\n",
    "\n",
    "$$ \\begin{split}\n",
    "    \\vec{a} &= \\left( \\ddot{r} - r \\dot{\\phi}^2 \\right) \\hat{r} + \\left( r \\ddot{\\phi} + 2 \\dot{r} \\dot{\\phi} \\right) \\hat{\\phi} \\\\\n",
    "            &= \\left( b\\,k^2\\,e^{kt} - b\\,e^{kt} c^2 \\right) \\hat{r} + \\left( 0 + 2 b\\,k\\,e^{kt} c \\right) \\hat{\\phi}\n",
    "\\end{split} $$\n",
    "\n",
    "$$ \\Rightarrow \\boxed{ \\vec{a} = \\left( k^2 - c^2 \\right) b\\,e^{kt}\\ \\hat{r} + 2\\,k\\,c\\,b\\,e^{kt}\\ \\hat{\\phi} } $$"
   ]
  },
  {
   "cell_type": "markdown",
   "id": "add4e34a",
   "metadata": {},
   "source": [
    "### c) Is the bee's speed constant?"
   ]
  },
  {
   "cell_type": "markdown",
   "id": "0b28184d",
   "metadata": {},
   "source": [
    "The straightforward way to answer this question is to calculate the magnitude of the velocity vector.\n",
    "\n",
    "$$ v = \\sqrt{ \\vec{v} \\cdot \\vec{v} } = \\sqrt{ v_r^2 + v_\\phi^2 } = \\sqrt{ \\left( b\\,k\\,e^{kt} \\right)^2 + \\left( b\\,e^{kt}\\,c \\right)^2 } $$\n",
    "\n",
    "$$ \\Rightarrow \\boxed{ v = b\\,e^{kt} \\sqrt{ k^2 + c^2 } } $$"
   ]
  },
  {
   "cell_type": "markdown",
   "id": "4d9a0057",
   "metadata": {},
   "source": [
    "Not only is the speed not constant, it approaches infinity exponentially!"
   ]
  },
  {
   "cell_type": "markdown",
   "id": "243b1ba2",
   "metadata": {},
   "source": [
    "### d) Is the angle between velocity and acceleration constant?"
   ]
  },
  {
   "cell_type": "markdown",
   "id": "9df3feb4",
   "metadata": {},
   "source": [
    "I'll get the angle between $\\vec{v}$ and $\\vec{a}$ from their dot product.\n",
    "\n",
    "$$ \\begin{split}\n",
    "    \\vec{v} \\cdot \\vec{a} &= v_r\\,a_r + v_\\phi\\,a_\\phi \\\\\n",
    "        &= \\left( b\\,k\\,e^{kt} \\right) \\left( k^2 - c^2 \\right) b\\,e^{kt} + \\left( b\\,e^{kt} c \\right) \\left( 2\\,k\\,c\\,b\\,e^{kt} \\right) \\\\\n",
    "        &= \\left( k^2 - c^2 \\right) b^2\\,k\\,e^{2kt} + 2\\,k\\,c^2\\,b^2\\,e^{2kt} \\\\\n",
    "        &= b^2\\,e^{2kt} \\left( k^2 - c^2 + 2\\,k\\,c^2 \\right) \\\\\n",
    "        &= b^2\\,e^{2kt} \\left( k^2 + c^2 \\right)\n",
    "\\end{split} $$"
   ]
  },
  {
   "cell_type": "markdown",
   "id": "45394868",
   "metadata": {},
   "source": [
    "To get the angle, I also need the magnitudes of the vectors. I've got the speed in part (c), but I need to calculate the magnitude of the acceleration vector:\n",
    "\n",
    "$$ \\begin{split}\n",
    " a &= \\sqrt{ \\vec{a} \\cdot \\vec{a} } = \\sqrt{ a_r^2 + a_\\phi^2 } = \\sqrt{ \\left( \\left( k^2 - c^2 \\right) b\\,e^{kt} \\right)^2 + \\left( 2\\,k\\,c\\,b\\,e^{kt} \\right)^2 } \\\\\n",
    "    &= b\\,e^{kt} \\sqrt{ k^4 - 2\\,k^2\\,c^2 + c^4 + 4\\,k^2\\,c^2 } = b\\,e^{kt} \\sqrt{ \\left( k^2 + c^2 \\right)^2 } \\\\\n",
    "    &= b\\,e^{kt} \\left( k^2 + c^2 \\right)\n",
    "\\end{split} $$"
   ]
  },
  {
   "cell_type": "markdown",
   "id": "4187224a",
   "metadata": {},
   "source": [
    "How about the angle between them?\n",
    "\n",
    "$$ \\cos(\\theta) = \\frac{\\vec{v} \\cdot \\vec{a}}{\\left| \\vec{v} \\right| \\left| \\vec{a} \\right|} = \\frac{b^2\\,e^{2kt} \\left( k^2 + c^2 \\right)}{\\left( b\\,e^{kt} \\sqrt{ k^2 + c^2 } \\right) \\left( b\\,e^{kt} \\left[ k^2 + c^2 \\right] \\right)} = \\frac{1}{\\sqrt{ k^2 + c^2 }} $$"
   ]
  },
  {
   "cell_type": "markdown",
   "id": "b594c857",
   "metadata": {},
   "source": [
    "All time dependence has cancelled out, so **yes, the angle between the velocity and acceleration vectors is constant in time.**"
   ]
  },
  {
   "cell_type": "markdown",
   "id": "2ac38058",
   "metadata": {},
   "source": [
    "---"
   ]
  },
  {
   "cell_type": "markdown",
   "id": "2e6537cf-7687-4639-8d83-279f485d3823",
   "metadata": {},
   "source": [
    "## Problem 3: Reeling it In"
   ]
  },
  {
   "cell_type": "markdown",
   "id": "e5c1d489",
   "metadata": {},
   "source": [
    "### A) Constant Length"
   ]
  },
  {
   "cell_type": "markdown",
   "id": "47d4af83",
   "metadata": {},
   "source": [
    "#### 1. Drawing, labeling, and coordinate system\n",
    "\n",
    "Getting diagrams into these notebooks is very slow, so I'll punt unless I find extra time. I think that part is pretty straightforward.\n",
    "\n",
    "I'll choose a cylindrical coordinate system with the origin at the center of the reel and $z = 0$ along the tabletop. I'll orient my x and y axes such that the puck's initial position is on the x-axis, with the puck initially moving in the +y direction."
   ]
  },
  {
   "cell_type": "markdown",
   "id": "148cbafd",
   "metadata": {},
   "source": [
    "### 2. Representing given information\n",
    "\n",
    "The fact that the puck is constrained to slide on the surface can be represented as the constraint equation $z = 0$, which implies $\\dot{z} = 0$ and $\\ddot{z} = 0$. The constraint force maintaining that is the normal force of the surface upwards on the puck.\n",
    "\n",
    "The fact that the puck is tethered to a fixed pivot by a string of length $L$ can be represented as the constraint equation $\\rho = L$, which implies $\\dot{\\rho} = 0$ and $\\ddot{\\rho} = 0$. The constraint force maintaining that is the tension force from the string.\n",
    "\n",
    "Given my choice of coordinate system orientation, the puck's initial velocity can be represented as $\\vec{v}_0 = v_0\\,\\hat{\\phi}$. Since $\\vec{v} = \\dot{\\rho}\\, \\hat{\\rho} + \\rho\\,\\dot{\\phi}\\, \\hat{\\phi}$ in polar coordinates, this implies that my initial conditions are $\\dot{\\rho}(0) = 0$, $\\dot{\\phi}(0) = v_0 / L$, and $\\dot{z}(0) = 0$.\n",
    "\n",
    "The gravitational force on the puck can be represented as $\\vec{F}_g = -m\\,g\\,\\hat{z}$.\n",
    "\n",
    "The normnal force on the puck can be represented as $\\vec{F_N} = F_N\\,\\hat{z}$.\n",
    "\n",
    "The tension force from the string can be represented as $\\vec{F}_T = -F_T\\,\\hat{\\rho}$."
   ]
  },
  {
   "cell_type": "markdown",
   "id": "7ecfef8f",
   "metadata": {},
   "source": [
    "#### 3. Equations of motion\n",
    "\n",
    "Using the generic form of N2L in cylindrical coordinates and filling in the problem-specific information above:\n",
    "\n",
    "$$ \\begin{align}\n",
    "    \\frac{1}{m} F_\\rho = \\ddot{\\rho} - \\rho\\,\\dot{\\phi}^2  \\quad &\\Rightarrow \\quad -\\frac{1}{m}\\,F_T = 0 - L\\,\\dot{\\phi}^2 \\\\\n",
    "        \\nonumber \\\\\n",
    "    \\frac{1}{m} F_\\phi = \\rho\\,\\ddot{\\phi} + 2\\,\\dot{\\rho}\\,\\dot{\\phi} \\quad &\\Rightarrow \\quad 0 = L\\,\\ddot{\\phi} + 0 \\\\\n",
    "        \\nonumber \\\\\n",
    "    \\frac{1}{m} F_z = \\ddot{z} \\quad &\\Rightarrow \\quad \\frac{F_N}{m} - g = 0\n",
    "\\end{align} $$"
   ]
  },
  {
   "cell_type": "markdown",
   "id": "9d15246b",
   "metadata": {},
   "source": [
    "#### 4. Solving the angular equation\n",
    "\n",
    "Equation (2) pretty transparently states that the angular acceleration $\\ddot{\\phi} = 0$, which means that the angular velocity $\\dot{\\phi}$ is constant with $\\dot{\\phi}(t) = \\dot{\\phi}(0) = v_0 / L$ and the angular coordinate $\\phi(t) = v_0\\,t / L$ (given my initial conditions above)."
   ]
  },
  {
   "cell_type": "markdown",
   "id": "674ada71",
   "metadata": {},
   "source": [
    "#### 5. Solving the radial equation\n",
    "\n",
    "Inserting $\\dot{\\phi} = v_0 / L$ into (1) and solving for $F_T$, we find that the string tension force has a magnitude of $F_T = m\\,L\\,\\dot{\\phi}^2 = m\\,v_0^2 / L$."
   ]
  },
  {
   "cell_type": "markdown",
   "id": "1a65cb8d",
   "metadata": {},
   "source": [
    "#### 6. Agreement with \"uniform circular motion\"\n",
    "\n",
    "Yes! Standard intro-physics knowledge for \"uniform circular motion\" (sometimes understood, sometimes just taken on faith) is that the object moves with constant speed and radius (by definition) and therefore constant angular velocity, that a centripetal force of magnitude $m\\,v^2 / r$ is required. _Check!_"
   ]
  },
  {
   "cell_type": "markdown",
   "id": "c1e245a2",
   "metadata": {},
   "source": [
    "#### 7. Solving the z-component equation\n",
    "\n",
    "Equation (3) trivially rearranges to tell us that the magnitude of the normal force is $F_N = m\\,g$, which was probably screamingly obvious to you. But now you see how it pops out of the Newtonian formalism, following mathematically from N2L and the constraint equation $z = 0$."
   ]
  },
  {
   "cell_type": "markdown",
   "id": "c9137682",
   "metadata": {},
   "source": [
    "### B) Decreasing Length\n",
    "\n",
    "*Now, we move past intro-physics stuff…*\n",
    "\n",
    "What's different from part (A) about the mathematical representation of the problem? Only that now, $\\rho = L - \\lambda\\,t$, implying that $\\dot{\\rho} = -\\lambda$ and $\\ddot{\\rho} = 0$. That changes the equations of motion some:\n",
    "\n",
    "$$ \\begin{align}\n",
    "    \\frac{1}{m} F_\\rho = \\ddot{\\rho} - \\rho\\,\\dot{\\phi}^2  \\quad &\\Rightarrow \\quad -\\frac{1}{m}\\,F_T = 0 - \\left(L - \\lambda\\,t\\right)\\,\\dot{\\phi}^2 \\\\\n",
    "        \\nonumber \\\\\n",
    "    \\frac{1}{m} F_\\phi = \\rho\\,\\ddot{\\phi} + 2\\,\\dot{\\rho}\\,\\dot{\\phi} \\quad &\\Rightarrow \\quad 0 = \\left(L - \\lambda\\,t\\right)\\,\\ddot{\\phi} - 2\\,\\lambda\\,\\dot{\\phi} \\\\\n",
    "        \\nonumber \\\\\n",
    "    \\frac{1}{m} F_z = \\ddot{z} \\quad &\\Rightarrow \\quad \\frac{F_N}{m} - g = 0\n",
    "\\end{align} $$"
   ]
  },
  {
   "cell_type": "markdown",
   "id": "355d6419",
   "metadata": {},
   "source": [
    "#### 8. Solving the angular equation, revisited\n",
    "\n",
    "Equation (2) is a second-order differential equation for $\\phi(t)$. Since $\\phi$ itself does not appear in the equation, but only its derivatives, we can recast it as a first-order differential equation for the angular velocity $\\omega(t) \\equiv \\dot{\\phi}(t)$:\n",
    "\n",
    "$$ \\begin{split}\n",
    "    &0 = \\left(L - \\lambda\\,t\\right)\\,\\dot{\\omega} - 2\\,\\lambda\\,\\omega \\\\\n",
    "    &\\Rightarrow \\dot{\\omega} = \\frac{2\\,\\lambda\\,\\omega}{L - \\lambda\\,t}\n",
    "\\end{split} $$\n",
    "\n",
    "If you haven't taken ODEs yet, pay attention: Here's the generic approach to ALL first-order ODEs. We'll write $\\dot{\\omega}$ as $d\\omega/dt$ and rearrange to get all the $\\omega$ terms on one side and all the $t$ terms on the other. (This is called \"separation of variables\".)\n",
    "\n",
    "$$ \\begin{split}\n",
    "    \\frac{d\\omega}{dt} &= \\frac{2\\,\\lambda\\,\\omega}{L - \\lambda\\,t}\n",
    "    \\\\ \\ \\\\\n",
    "    \\Rightarrow \\frac{d\\omega}{\\omega} &= \\frac{2\\,\\lambda\\,dt}{L - \\lambda\\,t}\n",
    "\\end{split} $$\n",
    "\n",
    "We now integrate both sides from 0 to an arbitrary time $t$ (making sure to rewrite the dummy variable of integration as $t'$):\n",
    "\n",
    "$$  \\int_0^{\\omega(t)} \\frac{d\\omega}{\\omega} = \\int_0^t \\frac{2\\,\\lambda\\,dt'}{L - \\lambda\\,t'} $$\n",
    "\n",
    "The right-hand integral is straightforwards via the change of variables $u \\equiv L - \\lambda\\,t'$, $du = -\\lambda\\,dt'$, and $dt' = -du / \\lambda$:\n",
    "\n",
    "$$  \\int_0^{\\omega(t)} \\frac{d\\omega}{\\omega} = -2 \\int_0^{u(t)} \\frac{du}{u}"
   ]
  },
  {
   "cell_type": "markdown",
   "id": "83bffe9f",
   "metadata": {},
   "source": [
    "If you don't recognize this common (in physics) integral, burn it into your brain now:\n",
    "\n",
    "$$ \\int \\frac{dx}{x} = \\ln(x) + C \\quad \\Rightarrow \\quad \\int_{x_1}^{x_2} \\frac{dx}{x} = \\ln(x_2) - \\ln(x_1) = \\ln\\left(\\frac{x2}{x1}\\right) $$"
   ]
  },
  {
   "cell_type": "markdown",
   "id": "36f42e83",
   "metadata": {},
   "source": [
    "Applying this to both sides of the equation and using some logarithmic identities to rearrange, we get:\n",
    "\n",
    "$$ \\ln\\left(\\frac{\\omega(t)}{\\omega(0)}\\right) = -2 \\ln\\left(\\frac{L - \\lambda\\,t}{L}\\right) = \\ln\\left(\\left[\\frac{L}{L - \\lambda\\,t}\\right]^2\\right) $$\n",
    "\n",
    "Exponentiating both sides, this gives:\n",
    "\n",
    "$$ \\begin{split}\n",
    "    &\\frac{\\omega(t)}{\\omega(0)} = \\left(\\frac{L}{L - \\lambda\\,t}\\right)^2\n",
    "    \\quad \\Rightarrow \\quad \\omega(t) = \\omega(0) \\left(\\frac{L}{L - \\lambda\\,t}\\right)^2\n",
    "    \\\\ \\ \\\\\n",
    "    &\\Rightarrow \\quad \\boxed{ \\vec{\\omega}(t) = \\frac{\\omega(0)}{1 - \\lambda\\,t / L}\\,\\hat{z} = \\frac{v_0 / L}{1 - \\lambda\\,t / L}\\,\\hat{z} }\n",
    "\\end{split} $$"
   ]
  },
  {
   "cell_type": "markdown",
   "id": "fb3d7496",
   "metadata": {},
   "source": [
    "(In the last step, I inserted the unit vector consistent with CCW motion on the tabletop.)\n",
    "\n",
    "Conclusion: **YES, the puck's angular momentum changes over time.** As it's reeled in, the angular velocity increases, meaning that it will complete rotations more rapidly as it gets closer. (If you dredge up your memories of angular momentum from intro physics, this should make sense.)\n"
   ]
  },
  {
   "cell_type": "markdown",
   "id": "80cc5455",
   "metadata": {},
   "source": [
    "#### 9. String tension, revisited\n",
    "\n",
    "Inserting our result for $\\dot{\\phi}(t) \\equiv \\dot{\\omega}(t)$ into the radial equation of motion and solving for $F_T$, we find:\n",
    "\n",
    "$$ \\begin{split}\n",
    "    &-\\frac{1}{m}\\,F_T = \\left(L - \\lambda\\,t\\right)\\,\\left(\\frac{\\omega(0)}{1 - \\lambda\\,t / L}\\right)^2\n",
    "    \\\\ \\ \\\\\n",
    "    \\Rightarrow \\quad & F_T = m\\,\\left(L - \\lambda\\,t\\right)\\,\\left(\\frac{\\omega(0)}{1 - \\lambda\\,t / L}\\right)^2\n",
    "        = \\frac{m\\,\\left(L - \\lambda\\,t\\right)}{\\left(1 - \\lambda\\,t / L\\right)^2} \\left( \\frac{v_0}{L} \\right)^2\n",
    "    \\\\ \\ \\\\\n",
    "    \\Rightarrow \\quad &\\boxed{ F_T = \\frac{m\\,v_0^2}{L - \\lambda\\,t} }\n",
    "\\end{split} $$"
   ]
  },
  {
   "cell_type": "markdown",
   "id": "281b381f",
   "metadata": {},
   "source": [
    "It's got the right units, it agrees with part (A) at $t = 0$, and it increases over time as my intuition expects. Check!"
   ]
  },
  {
   "cell_type": "markdown",
   "id": "b663224c-398f-4e2a-b81c-47bb124135fe",
   "metadata": {},
   "source": [
    "---"
   ]
  }
 ],
 "metadata": {
  "kernelspec": {
   "display_name": "Python 3 (ipykernel)",
   "language": "python",
   "name": "python3"
  },
  "language_info": {
   "codemirror_mode": {
    "name": "ipython",
    "version": 3
   },
   "file_extension": ".py",
   "mimetype": "text/x-python",
   "name": "python",
   "nbconvert_exporter": "python",
   "pygments_lexer": "ipython3",
   "version": "3.12.1"
  }
 },
 "nbformat": 4,
 "nbformat_minor": 5
}
