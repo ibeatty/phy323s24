{
 "cells": [
  {
   "cell_type": "markdown",
   "id": "2a8e87d6-2e37-4118-bc61-b506adc84a0f",
   "metadata": {},
   "source": [
    "# Problem Set F2 Solutions\n",
    "\n",
    "_PHY 323 Spring 2024, Prof. Ian Beatty_"
   ]
  },
  {
   "cell_type": "code",
   "execution_count": null,
   "id": "525d7849-08d2-49d9-bd50-38dcb78f4af6",
   "metadata": {},
   "outputs": [],
   "source": [
    "# Setup…\n",
    "import numpy as np\n",
    "import matplotlib.pyplot as plt\n",
    "from numpy.linalg import norm\n",
    "from IPython.display import display, Math\n",
    "\n",
    "def print_math(s):\n",
    "    display(Math(s))"
   ]
  },
  {
   "cell_type": "markdown",
   "id": "1e50c094-80d1-4252-8ba2-0304ea6758ec",
   "metadata": {},
   "source": [
    "## Problem 1: The Buoy"
   ]
  },
  {
   "cell_type": "markdown",
   "id": "015a50b0",
   "metadata": {},
   "source": [
    "### a) Free-body diagram:\n",
    "\n",
    "The buoy experiences three forces: a gravitational force (weight) downwards, a buoyant force upwards, and a tension force from the anchor cable downwards."
   ]
  },
  {
   "cell_type": "markdown",
   "id": "864e1070",
   "metadata": {},
   "source": [
    "### b) Force laws & constraint equations:\n",
    "\n",
    "- Gravitational force: $\\vec{F}_g = m\\,g \\left(-\\hat{y}\\right)$\n",
    "\n",
    "- Buoyant force: $\\vec{F}_b = \\rho_W\\,V\\,g \\left(\\hat{y}\\right) = \\frac{4\\pi}{3} r^3\\,\\rho_W\\,g \\left(\\hat{y}\\right)$\n",
    "\n",
    "- Tension force: $\\vec{F}_T = F_T \\left(-\\hat{y}\\right)$ where $F_T$ is whatever non-negative value is required to achieve $\\ddot{y} = 0 \\ \\Rightarrow \\dot{y}(t) = 0 \\ \\forall \\ t$.\n",
    "\n",
    "where $m$ is the buoy's mass, $V = \\frac{4}{3}\\pi\\,r^3$ its volume, $\\rho_W$ the density of the water, and $g$ the local acceleration constant. (Since the buoy's radius was given, and no other dimensions, I'm assuming it's spherical. A more careful instructor probably would have been explicit about that.)"
   ]
  },
  {
   "cell_type": "markdown",
   "id": "387cb637",
   "metadata": {},
   "source": [
    "### c) Equations of motion:\n",
    "\n",
    "Nothing at all is happening in the $x$ or $z$ (horizontal) directions, so I'll omit those. In the $y$ (vertical) direction:\n",
    "\n",
    "$$ \\begin{split}\n",
    "    \\ddot{y} &= \\frac{1}{m} F_{\\text{net,y}} \\\\\n",
    "    \\Rightarrow 0 &= -g + \\frac{4\\pi}{3m} r^3\\,\\rho_W\\,g - \\frac{1}{m}F_T\n",
    "\\end{split} $$"
   ]
  },
  {
   "cell_type": "markdown",
   "id": "d0864c38",
   "metadata": {},
   "source": [
    "### d) Constraint force values:\n",
    "\n",
    "This equation can be easily solved for the magnitude of the tension force:\n",
    "\n",
    "$$ \\boxed{ F_T = \\left( \\frac{4\\pi}{3} r^3\\,\\rho_W - m \\right) g } $$"
   ]
  },
  {
   "cell_type": "markdown",
   "id": "1883e0d2",
   "metadata": {},
   "source": [
    "We could write this in terms of the buoy's average mass density $\\rho_b$ if we wanted:\n",
    "\n",
    "$$ F_T = \\left( \\rho_W - \\rho_b \\right) \\frac{4\\pi}{3} r^3\\,g $$"
   ]
  },
  {
   "cell_type": "markdown",
   "id": "760af985",
   "metadata": {},
   "source": [
    "### e) Assumptions and realistic parameters:\n",
    "\n",
    "I've assumed that the buoy is totally submerged, which was intended but not actually stated (oops) in the problem. /sigh/\n",
    "\n",
    "I've assumed that the buoy would float upwards without the rope (\"positive buoyancy\"), which requires that $\\rho_b \\lt \\rho_W$. That implies styrofoam is less dense than water, which is obviously true given that styrofoam floats.\n",
    "\n",
    "I've assumed that the density of the water is uniform, or close enough to be treated as such. Unless the buoy is ridiculously tall, or there's something odd about the water (like a strong saline layer that's not mixing with the rest), this is a reasonable assumption.\n",
    "\n",
    "Perhaps more importantly, I've assumed that the water is still, or else it would exert a fluid drag force on the buoy. The case of horizontal flow is the topic of the remainder of this problem.\n",
    "\n",
    "Note that I do NOT have to assume a massless or negligibly-buoyant rope, if I interpret the tension force as what is exerted on the buoy at the contact point. A rope with mass and/or buoyancy would have a non-constant tension along its length, and would pull with a different force on the lakebed than on the buoy. That wouldn't affect the above analysis, though."
   ]
  },
  {
   "cell_type": "markdown",
   "id": "45afd9d3",
   "metadata": {},
   "source": [
    "### f) Why does the rope deviate from vertical?\n",
    "\n",
    "If the water has horizontal motion, it will exert a viscous drag force on the buoy in the direction of the water's motion. (From the water's frame of reference, the buoy is moving in the other direction through it, and experiencing a drag force in the opposite direction of its velocity.) For the buoy to remain stationary, the tension force must now have a horizontal component to balance the drag force. This will cause the rope to deviate from vertical."
   ]
  },
  {
   "cell_type": "markdown",
   "id": "70e3c49b",
   "metadata": {},
   "source": [
    "### g) Magnitude of the drag force:\n",
    "\n",
    "We can find the magnitude of this drag force from the requirement that the net force on the buoy be zero if it remains stationary:\n",
    "\n",
    "$$ 0\\,\\hat{\\imath} + 0\\,\\hat{\\jmath} = \\left[ F_\\text{drag} - F_T \\sin(\\theta) \\right] \\hat{\\imath} + \\left[ F_b - F_g - F_T \\cos(\\theta) \\right] \\hat{\\jmath} $$"
   ]
  },
  {
   "cell_type": "markdown",
   "id": "6e3be1ce",
   "metadata": {},
   "source": [
    "The y-component equation lets us solve for the magnitude of the tension force, as in section (d) but with an additional factor of $\\cos(\\theta)$:\n",
    "\n",
    "$$ F_T = \\frac{1}{\\cos(\\theta)} \\left( \\frac{4\\pi}{3} r^3\\,\\rho_W - m \\right) g $$"
   ]
  },
  {
   "cell_type": "markdown",
   "id": "5d5e0042",
   "metadata": {},
   "source": [
    "Substituting this into the x-component equation yields the drag force:\n",
    "\n",
    "$$ F_\\text{drag} = F_T \\sin(\\theta) = \\boxed{ \\tan(\\theta) \\left( \\frac{4\\pi}{3} r^3\\,\\rho_W - m \\right) g }$$"
   ]
  },
  {
   "cell_type": "markdown",
   "id": "77a40123",
   "metadata": {},
   "source": [
    "Sanity checks: \n",
    "\n",
    "- As the string goes to vertical ($\\theta \\to 0$), $F_\\text{drag} \\to 0$ as expected.\n",
    "\n",
    "- As the string goes to horizontal ($\\theta \\to \\frac{\\pi}{2}$), $F_\\text{drag} \\to \\infty$, also sensible (as a limit)."
   ]
  },
  {
   "cell_type": "markdown",
   "id": "4b977959",
   "metadata": {},
   "source": [
    "---"
   ]
  },
  {
   "cell_type": "markdown",
   "id": "628bb487-d42e-4b74-9549-cb1ab030722c",
   "metadata": {},
   "source": [
    "## Problem 2: Taylor Problem 1.38"
   ]
  },
  {
   "cell_type": "markdown",
   "id": "aa67f99e",
   "metadata": {},
   "source": [
    "The forces acting on the puck:\n",
    "\n",
    "- Normal: $\\vec{F}_N = F_N \\hat{z}$\n",
    "\n",
    "- Gravitational: $\\vec{F}_g = m\\,g \\left[ -\\cos(\\theta) \\hat{z} - \\sin(\\theta) \\hat{y} \\right]$"
   ]
  },
  {
   "cell_type": "markdown",
   "id": "43ac59d9",
   "metadata": {},
   "source": [
    "N2L is therefore:\n",
    "\n",
    "$$ \\begin{split}\n",
    "    \\ddot{x} &= 0 \\\\\n",
    "    \\ddot{y} &= -g\\sin(\\theta) \\\\\n",
    "    \\ddot{z} &= \\frac{F_N}{m} - g\\cos(\\theta)\n",
    "\\end{split} $$"
   ]
  },
  {
   "cell_type": "markdown",
   "id": "6e3a3bd3",
   "metadata": {},
   "source": [
    "Because the puck is constrained to the table, $\\dot{z} = 0 \\ \\forall \\ t \\Rightarrow \\ddot{x} = 0$, so $F_N = m\\,g\\cos(\\theta)$."
   ]
  },
  {
   "cell_type": "markdown",
   "id": "883590d9",
   "metadata": {},
   "source": [
    "We can integrate the x and y component equations twice to find position as a function of time. In the x direction:\n",
    "\n",
    "$$ \\begin{split}\n",
    "    &\\ddot{x} = 0 \\ \\Rightarrow \\ \\dot{x} = v_{0x} \\ \\Rightarrow \\ x(t) = v_{0x} t + x_0 \\\\\n",
    "    &\\Rightarrow \\ \\boxed{x(t) = v_{0x}\\, t}\n",
    "\\end{split} $$"
   ]
  },
  {
   "cell_type": "markdown",
   "id": "c5160006",
   "metadata": {},
   "source": [
    "In the y direction:\n",
    "\n",
    "$$ \\begin{split}\n",
    "    &\\ddot{y} = -g\\sin(\\theta) \\ \\Rightarrow \\ \\dot{y} = -g\\sin(\\theta) t + v_{0y} \\\\ &\\Rightarrow \\ y(t) = -\\frac{1}{2} g\\sin(\\theta) t^2 + v_{0y} t + y_0 \\\\\n",
    "    &\\Rightarrow \\ \\boxed{y(t) =  v_{0y}\\,t - \\frac{1}{2} g\\sin(\\theta)\\,t^2 }\n",
    "\\end{split} $$"
   ]
  },
  {
   "cell_type": "markdown",
   "id": "94ec903d",
   "metadata": {},
   "source": [
    "To find the time $t_f$ at which the puck returns to floor level, we set $y(t_f) = 0$ and solve for $t_f$:\n",
    "\n",
    "$$ \\begin{split}\n",
    "    &0 = v_{0y}\\,t_f - \\frac{1}{2} g\\,\\sin(\\theta)\\,t_f^2 \\\\\n",
    "    &\\Rightarrow \\ t_f = 0 \\quad \\text{or} \\quad \\boxed{t_f = \\frac{2\\,v_{0y}}{g\\,\\sin(\\theta)} }\n",
    "\\end{split} $$\n",
    "\n",
    "The first solution represents _leaving_ the floor at the start of the scenario so the second is the one we seek."
   ]
  },
  {
   "cell_type": "markdown",
   "id": "f4656584",
   "metadata": {},
   "source": [
    "To find how far the puck is from its starting point when it returns to the floor, we substitute $t_f$ into our $x(t)$ equation:\n",
    "\n",
    "$$ \\begin{split}\n",
    "    x(t_f) &= v_{0x}\\,t_f \\Rightarrow \\boxed{x(t_f) = \\frac{2\\,v_{0x}\\,v_{0y}}{g\\,\\sin(\\theta)} }\n",
    "\\end{split} $$"
   ]
  },
  {
   "cell_type": "markdown",
   "id": "88d399b9",
   "metadata": {},
   "source": [
    "(Did you recognize this as the usual projectile motion range problem, but with a modified gravitational constant of $g\\,\\sin(\\theta)$ instead of $g$?)"
   ]
  },
  {
   "cell_type": "markdown",
   "id": "2ac38058",
   "metadata": {},
   "source": [
    "---"
   ]
  },
  {
   "cell_type": "markdown",
   "id": "2e6537cf-7687-4639-8d83-279f485d3823",
   "metadata": {},
   "source": [
    "## Problem 3: Sliding on an Accelerating Plane"
   ]
  },
  {
   "cell_type": "markdown",
   "id": "d43fb0d6",
   "metadata": {},
   "source": [
    "*The solution to this is available as a PDF (of my handwriting). You should be able to find it in the GitHub repository alongside this notebook. If it's not there now, it should be soon.*"
   ]
  },
  {
   "cell_type": "markdown",
   "id": "b663224c-398f-4e2a-b81c-47bb124135fe",
   "metadata": {},
   "source": [
    "---\n",
    "_Touched 2024-01-31, 7:03 PM._"
   ]
  }
 ],
 "metadata": {
  "kernelspec": {
   "display_name": "Python 3 (ipykernel)",
   "language": "python",
   "name": "python3"
  },
  "language_info": {
   "codemirror_mode": {
    "name": "ipython",
    "version": 3
   },
   "file_extension": ".py",
   "mimetype": "text/x-python",
   "name": "python",
   "nbconvert_exporter": "python",
   "pygments_lexer": "ipython3",
   "version": "3.12.1"
  }
 },
 "nbformat": 4,
 "nbformat_minor": 5
}
