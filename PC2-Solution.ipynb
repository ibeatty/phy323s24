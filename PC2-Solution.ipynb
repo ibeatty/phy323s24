{
 "cells": [
  {
   "cell_type": "markdown",
   "metadata": {},
   "source": [
    "# One Desperate Chance\n",
    "\n",
    "_UNCG PHY 323 F'24 — PC2 — Instructor's numerical solution_"
   ]
  },
  {
   "cell_type": "code",
   "execution_count": 156,
   "metadata": {},
   "outputs": [],
   "source": [
    "import numpy as np\n",
    "from numpy import sin, cos, tan, arctan2, sqrt, pi, deg2rad, rad2deg"
   ]
  },
  {
   "cell_type": "markdown",
   "metadata": {},
   "source": [
    "## Given constants and parameters"
   ]
  },
  {
   "cell_type": "code",
   "execution_count": 157,
   "metadata": {},
   "outputs": [],
   "source": [
    "# Universal constants and such:\n",
    "G = 6.67408e-11 # N m^2 / kg^2 -- universal gravitational constant\n",
    "k = 8.99e9 # N m^2 / C^2 -- Coulomb's constant\n",
    "g = 9.806 # N/kg -- Earth-local gravitational constant\n",
    "max_g_factor = 2.5 # maximum human-sustainable \"g-force\"\n",
    "\n",
    "# Properties of Jupiter and its environment:\n",
    "M_j = 1.899e27 # kg -- mass\n",
    "R_j = 7.65e7 # m -- radius to outer edge of atmosphere\n",
    "rho = 3.0e-14 # C/m^3 -- charge density of the ion cloud\n",
    "\n",
    "# Properties of the station:    \n",
    "M_s = 4.77e7 # kg -- mass\n",
    "R_s = 85.0 # m -- radius\n",
    "I_s = 1.37853e11 # kg m^2 -- moment of inertia\n",
    "Q_s = -1.335 # C -- electrostatic charge of the station\n",
    "\n",
    "# Properties of the autonomous rocket:\n",
    "M_r = 1.98e6 # kg -- mass\n",
    "E_frac = 0.95 # fraction of system's internal energy gain going to the rocket\n",
    "c_r = 900 # J / kg K, specific heat of rocket\n",
    "T_i = 293 # K -- initial temperature of rocket\n",
    "T_c = 566 # K -- critical temperature for rocket explosion\n",
    "\n",
    "# Initial conditions:\n",
    "r_i = 1.43635e9  # m -- initial distance of station from Jupiter's center\n",
    "v_i = 3000.61 # m/s -- initial speed relative to Jupiter\n",
    "q_i = deg2rad(0.360) # rad -- angle of velocity inwards from forwards-tangential (phi-hat)\n",
    "w_i = 0.000339723 # rad/s -- initial angular velocity of station about its center"
   ]
  },
  {
   "cell_type": "markdown",
   "metadata": {},
   "source": [
    "## Orbit Analysis"
   ]
  },
  {
   "cell_type": "markdown",
   "metadata": {},
   "source": [
    "The gravitational potential energy of the Jupiter-station system is\n",
    "\n",
    "$$ U_g(r) = \\frac{-G\\,M_J\\,M_s}{r} $$\n",
    "\n",
    "where $G$ is the gravitational constant, $M_J$ is the mass of Jupiter, $M_s$ is the mass of the station, and $r$ is their center-to-center distance."
   ]
  },
  {
   "cell_type": "markdown",
   "metadata": {},
   "source": [
    "The electrostatic potential energy of the station and ion cloud, for $R_J \\le r \\le R_\\text{cloud}$, is\n",
    "\n",
    "$$ U_e(r) = \\frac{-4\\pi}{6}\\,\\rho\\,k\\,Q\\,r^2 \\left( 1 + 2 \\frac{R_J^3}{r^3} \\right) - U_e(R_J) $$\n",
    "\n",
    "where $k$ is the Coulomb constant, $\\rho$ is the charge density of the ion cloud, $Q$ is the charge of the station, $R_J$ is the radius of Jupiter (the inner boundary of the cloud), and $U_e(R_J)$ is the potential energy at the edge of Jupiter's atmosphere, which we can choose to be zero."
   ]
  },
  {
   "cell_type": "markdown",
   "metadata": {},
   "source": [
    "Including the angular momentum barrier, the effective 1D potential energy is\n",
    "\n",
    "$$ \\begin{split}\n",
    "    U_\\text{eff}(r) &= U_g(r) + U_e(r) + \\frac{\\ell^2}{2\\,M_s\\,r^2} \\\\ \\\\\n",
    "        &= \\frac{-G\\,M_J\\,M_s}{r} - \\frac{2\\pi}{3}\\,\\rho\\,k\\,Q\\,r^2 \\left( 1 + 2 \\frac{R_J^3}{r^3} \\right) + \\frac{\\ell^2}{2\\,M_s\\,r^2}\n",
    "\\end{split}$$\n",
    "\n",
    "where $\\ell$ is the angular momentum of the station about the planet."
   ]
  },
  {
   "cell_type": "markdown",
   "metadata": {},
   "source": [
    "### Minimum apogee speed to avoid atmosphere"
   ]
  },
  {
   "cell_type": "markdown",
   "metadata": {},
   "source": [
    "If the station's velocity is nudged so that it points in the $\\hat{\\phi}$ direction — making the initial position the apojove point — what is the speed necessary so that the perigee point is at the atmosphere's outer boundary?"
   ]
  },
  {
   "cell_type": "markdown",
   "metadata": {},
   "source": [
    "At both apojove and perijove, $\\dot{r} = 0$, and $E_\\text{total} = U_\\text{eff}(r)$. Given the apojove distance $r_\\text{a}$, we can solve for the angular momentum $\\ell$ that produces the desired perijove distance $r_\\text{p}$.\n",
    "\n",
    "$$ U_\\text{eff}(r_\\text{a}) = U_\\text{eff}(r_\\text{p}) $$\n",
    "\n",
    "$$ \\Rightarrow \\ \n",
    "\\frac{-G\\,M_J\\,M_s}{r_\\text{a}} - \\frac{2\\pi}{3}\\,\\rho\\,k\\,Q\\,r_\\text{a}^2 \\left( 1 + 2 \\frac{R_J^3}{r_\\text{a}^3} \\right) + \\frac{\\ell^2}{2\\,M_s\\,r_\\text{a}^2} \\\\ \\ \\\\\\\n",
    "\\qquad \\qquad = \\frac{-G\\,M_J\\,M_s}{r_\\text{p}} - \\frac{2\\pi}{3}\\,\\rho\\,k\\,Q\\,r_\\text{p}^2 \\left( 1 + 2 \\frac{R_J^3}{r_\\text{p}^3} \\right) + \\frac{\\ell^2}{2\\,M_s\\,r_\\text{p}^2}\n",
    "$$"
   ]
  },
  {
   "cell_type": "markdown",
   "metadata": {},
   "source": [
    "$$ \\Rightarrow \\ \\frac{\\ell^2}{2\\,M_s} \\left( \\frac{1}{r_\\text{p}^2} - \\frac{1}{r_\\text{a}^2} \\right)\n",
    "= G\\,M_J\\,M_s \\left( \\frac{1}{r_\\text{p}} - \\frac{1}{r_\\text{a}} \\right)\n",
    "- \\frac{2\\pi}{3}\\,\\rho\\,k\\,Q \\left[ r_\\text{a}^2 - r_\\text{p}^2 + 2\\,R_J^3 \\left( \\frac{1}{r_\\text{a}^3} - \\frac{1}{r_\\text{p}^3} \\right) \\right]\n",
    "$$\n",
    "\n",
    "$$ \\Rightarrow \\ \\ell = \\left( \\frac{2\\,M_s}{\\frac{1}{r_\\text{p}^2} - \\frac{1}{r_\\text{a}^2}}\n",
    "\\left\\{ G\\,M_J\\,M_s \\left( \\frac{1}{r_\\text{p}} - \\frac{1}{r_\\text{a}} \\right)\n",
    "- \\frac{2\\pi}{3}\\,\\rho\\,k\\,Q \\left[ r_\\text{a}^2 - r_\\text{p}^2 + 2\\,R_J^3 \\left( \\frac{1}{r_\\text{a}^3} - \\frac{1}{r_\\text{p}^3} \\right) \\right] \\right\\} \\right)^{1/2}\n",
    "$$\n",
    "\n",
    "Ugly? Yes, but all we need to do is plug in the given numbers."
   ]
  },
  {
   "cell_type": "markdown",
   "metadata": {},
   "source": [
    "From the station's angular momentum, we can determine its initial speed (perpendicular to its position vector) of\n",
    "\n",
    "$$ L = \\left| \\vec{r} \\times \\vec{p} \\right| = m\\,r_a\\,v_a\n",
    "\\ \\Rightarrow \\ v_a = \\frac{L}{m\\,r_a} $$"
   ]
  },
  {
   "cell_type": "markdown",
   "metadata": {},
   "source": [
    "#### Ignoring the ion cloud\n",
    "\n",
    "If we could ignore the influence of the ion cloud (which we obtain by setting $Q = 0$ for the station), the solution would be:"
   ]
  },
  {
   "cell_type": "code",
   "execution_count": 158,
   "metadata": {},
   "outputs": [
    {
     "name": "stdout",
     "output_type": "stream",
     "text": [
      "Minimum initial speed to avoid atmosphere: 2.9873e+03 m/s.\n"
     ]
    }
   ],
   "source": [
    "# Calculation of angular momentum…\n",
    "def L(r_p, r_a, rhoQ):\n",
    "    prefactor = 2 * M_s / (1 / r_p**2 - 1/r_a**2)\n",
    "    term_1 = G * M_j * M_s * (1 / r_p - 1 / r_a)\n",
    "    term_2 = -(2/3) * pi * rhoQ * k * (r_a**2 - r_p**2 + 2 * R_j**3 * (1 / r_a**3 - 1 / r_p**3))\n",
    "    return sqrt(prefactor * (term_1 + term_2))\n",
    "\n",
    "L_no_Q = L(R_j, r_i, 0)\n",
    "\n",
    "# Calculation of initial speed…\n",
    "v_a = L_no_Q / (M_s * r_i)\n",
    "print(f\"Minimum initial speed to avoid atmosphere: {v_a:.4e} m/s.\")"
   ]
  },
  {
   "cell_type": "markdown",
   "metadata": {},
   "source": [
    "#### Including the ion cloud\n",
    "\n",
    "Incorporating the effect of the ion cloud (i.e., using the given values of $\\rho$ and $Q$), the solution is:"
   ]
  },
  {
   "cell_type": "code",
   "execution_count": 159,
   "metadata": {},
   "outputs": [
    {
     "name": "stdout",
     "output_type": "stream",
     "text": [
      "Minimum initial speed to avoid atmosphere: 3.0181e+03 m/s.\n"
     ]
    }
   ],
   "source": [
    "# Calculation of initial angular momentum and speed…\n",
    "L_with_Q = L(R_j, r_i, Q_s * rho)\n",
    "v_a = L_with_Q / (M_s * r_i)\n",
    "print(f\"Minimum initial speed to avoid atmosphere: {v_a:.4e} m/s.\")"
   ]
  },
  {
   "cell_type": "markdown",
   "metadata": {},
   "source": [
    "## Change in Station Velocity"
   ]
  },
  {
   "cell_type": "markdown",
   "metadata": {},
   "source": [
    "Now that we know the direction and minimum speed we want the station to have, we can determine the requisite change in the station's velocity. For this part of the problem, I'll use a coordinate system in which the x-axis points radially outwards from Jupiter, and the y-axis points in the direction we want it to move, perpendicular to the radius line from Jupiter to the station. We'll work in Jupiter's frame of reference.\n",
    "\n",
    "We'll write the post-collision velocity as $\\vec{v}_f \\equiv \\left(v_a + \\delta\\right)\\,\\hat{y}$, where $v_a$ is the minimum apojove speed we found in the prior section and $\\delta$ is a small \"safety factor\" we'd like to add to that to give us a bit of extra clearance from the atmosphere. We'll figure out how large we can afford to make $\\delta$ later.\n",
    "\n",
    "$$\\begin{split}\n",
    " \\Delta \\vec{v} &= \\vec{v}_f - \\vec{v}_i \\\\\n",
    "    &= \\left(v_a + \\delta\\right)\\,\\hat{y} - v_i \\left[ -\\sin(\\theta) \\hat{x} + \\cos(\\theta) \\hat{y} \\right]\n",
    "    \\\\\n",
    "    &= v_i\\,\\sin(\\theta) \\hat{x} + \\left[ v_a + \\delta - v_i\\,\\cos(\\theta) \\right] \\hat{y}\n",
    "\\end{split}$$\n",
    "\n",
    "where $v_i$ is the station's initial orbital speed, and $\\theta$ its direction inwards from the desired \"perpendicular to its position vector\" direction."
   ]
  },
  {
   "cell_type": "code",
   "execution_count": 160,
   "metadata": {},
   "outputs": [
    {
     "name": "stdout",
     "output_type": "stream",
     "text": [
      "Absolute miniumum change in velocity is (18.85, 17.54) m/s.\n"
     ]
    }
   ],
   "source": [
    "# Calculate the minimum change in velocity…\n",
    "def Dv(delta):\n",
    "    Dv_x = v_i * sin(q_i)\n",
    "    Dv_y = v_a + delta - v_i * cos(q_i)\n",
    "    return Dv_x, Dv_y\n",
    "\n",
    "Dv_x, Dv_y = Dv(0)\n",
    "print(f\"Absolute miniumum change in velocity is ({Dv_x:.4g}, {Dv_y:.4g}) m/s.\")"
   ]
  },
  {
   "cell_type": "markdown",
   "metadata": {},
   "source": [
    "With a safety margin of, say, $\\delta = 5$ m/s, we'd need:"
   ]
  },
  {
   "cell_type": "code",
   "execution_count": 161,
   "metadata": {},
   "outputs": [
    {
     "name": "stdout",
     "output_type": "stream",
     "text": [
      "Corresponding change in velocity is (18.85, 22.54) m/s.\n"
     ]
    }
   ],
   "source": [
    "delta = 5.0\n",
    "Dv_x_5, Dv_y_5 = Dv(delta)\n",
    "print(f\"Corresponding change in velocity is ({Dv_x_5:.4g}, {Dv_y_5:.4g}) m/s.\")"
   ]
  },
  {
   "cell_type": "markdown",
   "metadata": {},
   "source": [
    "## Rocket Impact Velocity"
   ]
  },
  {
   "cell_type": "markdown",
   "metadata": {},
   "source": [
    "To impart the desired change in velocity to the station, what speed and direction must the rocket have just before it slams into the station? This is an inelastic collision, since the rocket embeds in the station, so we can use conservation of momentum.\n",
    "\n",
    "Now, I'll work in the frame of reference in which the station is initially at rest. It's change in velocity is the same in any inertial frame (nonrelativistic assumptions should be quite safe here), so we want the station to go from a pre-collision velocity of zero to a post-collision velocity of $\\Delta \\vec{v}$."
   ]
  },
  {
   "cell_type": "markdown",
   "metadata": {},
   "source": [
    "$$\\begin{split}\n",
    "&\\vec{p}_i = \\vec{p}_f \\\\\n",
    "& \\qquad \\vec{p}_i = M_r\\,\\vec{v}_r + M_s\\,\\cancel{\\vec{v}_s} = M_r\\,\\vec{v}_r \\\\\n",
    "& \\qquad \\vec{p}_f = \\left(M_r + M_s\\right)\\,\\Delta \\vec{v} \\\\\n",
    "&\\Rightarrow \\ \\vec{v}_r = \\left( 1 + \\frac{M_s}{M_r} \\right) \\Delta \\vec{v}\n",
    "\\end{split}$$\n",
    "\n",
    "Note that $M_S \\gg M_r$, so the rocket's impact speed will have to be much larger than the station's desired change in speed."
   ]
  },
  {
   "cell_type": "markdown",
   "metadata": {},
   "source": [
    "Combining this with our prior result for the desired change in velocity, we have\n",
    "\n",
    "$$ \\vec{v}_r = \\left( 1 + \\frac{M_s}{M_r} \\right) \\left( v_i\\,\\sin(\\theta) \\hat{x} + \\left[ v_a + \\delta - v_i\\,\\cos(\\theta) \\right] \\hat{y} \\right) $$"
   ]
  },
  {
   "cell_type": "markdown",
   "metadata": {},
   "source": [
    "We need to express this as a speed and direction. The rocket speed is\n",
    "\n",
    "$$ \\left| \\vec{v}_r \\right| = \\sqrt{v_{r,x}^2 + v_{r,y}^2} $$"
   ]
  },
  {
   "cell_type": "markdown",
   "metadata": {},
   "source": [
    "Its direction, as an angle CCW (into the first quadrant) from the x-axis (radially outwards from Jupiter) is:\n",
    "\n",
    "$$ \\theta_r = \\arctan\\left( \\frac{v_{r,y}}{v_{r,x}} \\right) $$"
   ]
  },
  {
   "cell_type": "markdown",
   "metadata": {},
   "source": [
    "In the lower-limit case of $\\delta = 0$, the rocket's speed and direction would be:"
   ]
  },
  {
   "cell_type": "code",
   "execution_count": 162,
   "metadata": {},
   "outputs": [
    {
     "name": "stdout",
     "output_type": "stream",
     "text": [
      "To graze the atmosphere, the rocket should impact with a speed of 646.1 m/s relative to\n",
      "the station, with a direction of 42.93 degrees CCW from radially away from Jupiter.\n",
      "That corresponds to a velocity vector of (473, 440.1) m/s.\n"
     ]
    }
   ],
   "source": [
    "# Calculate minimal-solution speed and direction of rocket…\n",
    "def rocket_velocity(delta):\n",
    "    Dv_x, Dv_y = Dv(delta)\n",
    "    vR_x = (1 + M_s / M_r) * Dv_x\n",
    "    vR_y = (1 + M_s / M_r) * Dv_y\n",
    "    speed = sqrt(vR_x**2 + vR_y**2)\n",
    "    angle = arctan2(vR_y, vR_x)\n",
    "    return vR_x, vR_y, speed, angle\n",
    "\n",
    "vR_x, vR_y, speed, angle = rocket_velocity(0)\n",
    "print(f\"To graze the atmosphere, the rocket should impact with a speed of {speed:.4g} m/s relative to\")\n",
    "print(f\"the station, with a direction of {rad2deg(angle):.4g} degrees CCW from radially away from Jupiter.\")\n",
    "print(f\"That corresponds to a velocity vector of ({vR_x:.4g}, {vR_y:.4g}) m/s.\")"
   ]
  },
  {
   "cell_type": "markdown",
   "metadata": {},
   "source": [
    "With a safety margin of $\\delta = 5$ m/s, the necessary rocket velocity is:"
   ]
  },
  {
   "cell_type": "code",
   "execution_count": 163,
   "metadata": {},
   "outputs": [
    {
     "name": "stdout",
     "output_type": "stream",
     "text": [
      "To graze the atmosphere, the rocket should impact with a speed of 737.3 m/s relative to\n",
      "the station, with a direction of 50.09 degrees CCW from radially away from Jupiter.\n",
      "That corresponds to a velocity vector of (473, 565.6) m/s.\n"
     ]
    }
   ],
   "source": [
    "vR_x, vR_y, speed, angle = rocket_velocity(delta)\n",
    "print(f\"To graze the atmosphere, the rocket should impact with a speed of {speed:.4g} m/s relative to\")\n",
    "print(f\"the station, with a direction of {rad2deg(angle):.4g} degrees CCW from radially away from Jupiter.\")\n",
    "print(f\"That corresponds to a velocity vector of ({vR_x:.4g}, {vR_y:.4g}) m/s.\")"
   ]
  },
  {
   "cell_type": "markdown",
   "metadata": {},
   "source": [
    "## Upper Limit on Spin"
   ]
  },
  {
   "cell_type": "markdown",
   "metadata": {},
   "source": [
    "What is the maximum angular speed that the station can acquire from the collision without exceeding the crew's tolerance?\n",
    "\n",
    "The effective gravity is just the centripetal acceleration experienced by a person. I'll assume the person is located at the rim; since they'll probably be slightly closer to the center than that — at least by the thickness of the outer hull — this should yield a slightly conservative estimate. We can use the usual expression for centripetal acceleration during circular motion:\n",
    "\n",
    "$$ a_c = \\frac{v_\\text{rim}^2}{R} = \\omega^2 R \\ \\Rightarrow \\ \\omega = \\sqrt{\\frac{a_c}{R}} $$\n",
    "\n",
    "where $R$ is the radius of the station and $\\omega$ is its angular speed."
   ]
  },
  {
   "cell_type": "markdown",
   "metadata": {},
   "source": [
    "We require that $a_c \\lt 2.0\\,g$, so $\\omega \\lt \\sqrt{2.0\\,g/R}$. With the given station radius, that yields:"
   ]
  },
  {
   "cell_type": "code",
   "execution_count": 164,
   "metadata": {},
   "outputs": [
    {
     "name": "stdout",
     "output_type": "stream",
     "text": [
      "The station's angular speed of rotation should not exceed 0.537 rad/s.\n"
     ]
    }
   ],
   "source": [
    "# Calculate maximum angular speed…\n",
    "w_max = sqrt(max_g_factor * g / R_s)\n",
    "print(f\"The station's angular speed of rotation should not exceed {w_max:.4g} rad/s.\")"
   ]
  },
  {
   "cell_type": "markdown",
   "metadata": {},
   "source": [
    "## Lower Limit on Spin"
   ]
  },
  {
   "cell_type": "markdown",
   "metadata": {},
   "source": [
    "Why is there a lower limit on the station's angular speed? It's true that the crew would *like* a near-Earth simulated gravity, but they could *survive* near-zero gravity until the rescue ship arrives.\n",
    "\n",
    "The lower limit is imposed by the fact that during the inelastic collision between the rocket and station, any of the rocket's initial kinetic energy that does not end up as kinetic energy of translation of the station (with embedded rocket) as it recoils OR as kinetic energy of rotation as it spins from an off-center collision will necessarily end up increasing the internal energy of the station and rocket. Furthermore, we are told that the vast majority of this energy goes into heating up the rocket as it crumples like a tin can. If we do not allow enough energy to go into rotation, the rocket could overheat and explode.\n",
    "\n",
    "This is a complicated calculation with many steps. First, I'll figure out how much thermal energy the rocket can absorb before exploding:"
   ]
  },
  {
   "cell_type": "markdown",
   "metadata": {},
   "source": [
    "$$ \\Delta E_\\text{int,R} = M_r\\,c_r\\,\\Delta T = M_r\\,c_r\\,\\left( T_c - T_i \\right) $$\n",
    "\n",
    "where $M_r$ is the rocket's mass, $c_r$ is its specific heat, $T_c$ is the critical temperature at which it explodes, and $T_i$ is its initial temperature.\n",
    "\n",
    "The total system's internal energy rise would then be\n",
    "\n",
    "$$ \\Delta E_\\text{int,R} = \\gamma\\,\\Delta E_\\text{int} \\ \\Rightarrow \\ \n",
    "\\Delta E_\\text{int} = \\frac{1}{\\gamma} M_r\\,c_r\\,\\left( T_c - T_i \\right)\n",
    "$$\n",
    "\n",
    "where $\\gamma$ is the fraction of the total internal energy that goes into the rocket. With the scenario's given values, we get:\n"
   ]
  },
  {
   "cell_type": "code",
   "execution_count": 165,
   "metadata": {},
   "outputs": [
    {
     "name": "stdout",
     "output_type": "stream",
     "text": [
      "The system's internal energy should not rise by more than 5.121e+11 J.\n"
     ]
    }
   ],
   "source": [
    "# Calculate maximum internal energy rise…\n",
    "DE_max = M_r * c_r * (T_c - T_i) / E_frac\n",
    "print(f\"The system's internal energy should not rise by more than {DE_max:.4g} J.\")"
   ]
  },
  {
   "cell_type": "markdown",
   "metadata": {},
   "source": [
    "How does the system's internal energy rise relate to the post-collision angular speed? Let's apply conservation of energy, since no external interactions do significant work on the system during the collision.\n",
    "\n",
    "$$\\begin{split}\n",
    "&K_i + \\cancel{U_i} + E_{\\text{int},i} = K_f + \\cancel{U_f} + E_{\\text{int},f} \\\\\n",
    "&\\Rightarrow \\ \\Delta E_\\text{int} = K_i - K_f \\\\\n",
    "&\\qquad K_i = \\frac{1}{2} M_r v_r^2 + \\frac{1}{2} I_s \\omega_i^2 = \\frac{1}{2} M_r \\left( 1 + \\frac{M_s}{M_r} \\right)^2 \\Delta v^2 + \\frac{1}{2} I_s \\omega_i^2 \\\\\n",
    "&\\qquad K_f = \\frac{1}{2} \\left( M_s + M_r \\right) \\Delta v^2 + \\frac{1}{2} I_f \\omega_f^2 \\\\\n",
    "&\\Rightarrow \\ \\Delta E_\\text{int} = \\frac{1}{2} M_r \\left( 1 + \\frac{M_s}{M_r} \\right)^2 \\Delta v^2 + \\frac{1}{2} I_s \\omega_i^2 - \\frac{1}{2} \\left( M_s + M_r \\right) \\Delta v^2 - \\frac{1}{2} I_f \\omega_f^2\n",
    "\\end{split}$$\n",
    "\n",
    "(I've substituted in the result for the rocket's impact speed from above.)\n"
   ]
  },
  {
   "cell_type": "code",
   "execution_count": 166,
   "metadata": {},
   "outputs": [
    {
     "name": "stdout",
     "output_type": "stream",
     "text": [
      "Initial KE = 4.133e+11 J + 7955 J = 4.133e+11 J.\n",
      "Final translational KE = 3.294e+10 J.\n",
      "Maximum allowable increase in internal energy = 5.121e+11 J.\n",
      "Minimum final rotational KE = -1.317e+11 J.\n"
     ]
    }
   ],
   "source": [
    "_, _, vR, _ = rocket_velocity(0)\n",
    "K_iR = M_r * vR**2 / 2\n",
    "K_iS = I_s * w_i**2 / 2\n",
    "K_i = K_iR + K_iS\n",
    "print(f\"Initial KE = {K_iR:.4g} J + {K_iS:.4g} J = {K_i:.4g} J.\")\n",
    "\n",
    "Dv_x, Dv_y = Dv(0)\n",
    "Dv2 = Dv_x**2 + Dv_y**2\n",
    "K_f_trans = (M_r + M_s) * Dv2\n",
    "print(f\"Final translational KE = {K_f_trans:.4g} J.\")\n",
    "\n",
    "print(f\"Maximum allowable increase in internal energy = {DE_max:.4g} J.\")\n",
    "K_f_rot_min = K_i - K_f_trans - DE_max\n",
    "print(f\"Minimum final rotational KE = {K_f_rot_min:.4g} J.\")"
   ]
  },
  {
   "cell_type": "markdown",
   "metadata": {},
   "source": [
    "For the $\\delta = 5$ m/s case, the energy calculation is:"
   ]
  },
  {
   "cell_type": "code",
   "execution_count": 167,
   "metadata": {},
   "outputs": [
    {
     "name": "stdout",
     "output_type": "stream",
     "text": [
      "Initial KE = 5.382e+11 J + 7955 J = 5.382e+11 J.\n",
      "Final translational KE = 3.294e+10 J.\n",
      "Maximum allowable increase in internal energy = 5.121e+11 J.\n",
      "Minimum final rotational KE = -6.846e+09 J.\n"
     ]
    }
   ],
   "source": [
    "_, _, vR, _ = rocket_velocity(5)\n",
    "K_iR = M_r * vR**2 / 2\n",
    "K_iS = I_s * w_i**2 / 2\n",
    "K_i = K_iR + K_iS\n",
    "print(f\"Initial KE = {K_iR:.4g} J + {K_iS:.4g} J = {K_i:.4g} J.\")\n",
    "\n",
    "Dv_x, Dv_y = Dv(0)\n",
    "Dv2 = Dv_x**2 + Dv_y**2\n",
    "K_f_trans = (M_r + M_s) * Dv2\n",
    "print(f\"Final translational KE = {K_f_trans:.4g} J.\")\n",
    "\n",
    "print(f\"Maximum allowable increase in internal energy = {DE_max:.4g} J.\")\n",
    "K_f_rot_min = K_i - K_f_trans - DE_max\n",
    "print(f\"Minimum final rotational KE = {K_f_rot_min:.4g} J.\")"
   ]
  },
  {
   "cell_type": "markdown",
   "metadata": {},
   "source": [
    "We need to figure out $I_f$, the rotational inertia of the station-plus-rocket after the collision. Geometrically, we'll model it as the disk-shaped station of $I_s$ with a point mass of $M_r$ on its rim. \n",
    "\n",
    "Technically, this thing will not rotate about the station's center, but about the system's center of mass. That should be located close to the station's center, but slightly towards the rocket. Its distance from the station's center can be determined from the ratio of their masses:\n",
    "\n",
    "$$ r_{\\text{CM}} = \\frac{M_r\\,R_s + M_s\\,0}{M_r + M_s} = \\frac{M_r}{M_r + M_s} R_s $$\n",
    "\n",
    "With the given parameters, we find:"
   ]
  },
  {
   "cell_type": "code",
   "execution_count": 168,
   "metadata": {},
   "outputs": [
    {
     "name": "stdout",
     "output_type": "stream",
     "text": [
      "The center of mass of the rocket should be 3.388 m from the center of the station,\n",
      "which is 3.986% of the way to the rim.\n"
     ]
    }
   ],
   "source": [
    "# Calculate the distance of the CM from the station's center…\n",
    "r_cm = M_r * R_s / (M_s + M_r)\n",
    "print(f\"The center of mass of the rocket should be {r_cm:.4g} m from the center of the station,\")\n",
    "print(f\"which is {(r_cm / R_s):.3%} of the way to the rim.\")"
   ]
  },
  {
   "cell_type": "markdown",
   "metadata": {},
   "source": [
    "Using the parallel axis theorem, I can find the rotational inertia of the station about the CM. The system's total final rotational inertia is this plus the rocket's rotational inertia as a point mass about the CM:\n",
    "\n",
    "$$ I_f = I_s + M_s\\, r_\\text{CM}^2 + M_r\\, \\left( R_s - r_{\\text{CM}} \\right)^2 $$\n",
    "\n",
    "Numerically, this yields:"
   ]
  },
  {
   "cell_type": "code",
   "execution_count": 169,
   "metadata": {},
   "outputs": [
    {
     "name": "stdout",
     "output_type": "stream",
     "text": [
      "The moment of inertia of the system is 1.516e+11 kg m^2.\n",
      "This is a 9.9638%% increase over the initial moment of inertia.\n"
     ]
    }
   ],
   "source": [
    "I_f = I_s + M_s * r_cm**2 + M_r * (R_s - r_cm)**2\n",
    "print(f\"The moment of inertia of the system is {I_f:.4g} kg m^2.\")\n",
    "print(f\"This is a {(I_f / I_s - 1):.4%}% increase over the initial moment of inertia.\")"
   ]
  },
  {
   "cell_type": "markdown",
   "metadata": {},
   "source": [
    "Putting it all together and simplifying a bit (not shown), we get a not too terrible expression for the system's internal energy rise:\n",
    "\n",
    "$$\n",
    "\\Delta E_\\text{int} = \\frac{1}{2} M_r \\left( 1 + \\frac{M_s}{M_r} \\right)^2 \\Delta v^2 + \\frac{1}{2} I_s \\omega_i^2 - \\frac{1}{2} \\left( M_s + M_r \\right) \\Delta v^2 - \\frac{1}{2} \\left( I_s + M_r\\,R_s^2 \\right) \\omega_f^2\n",
    "$$"
   ]
  },
  {
   "cell_type": "markdown",
   "metadata": {},
   "source": [
    "Clearly, the larger $\\omega_f$ is, the smaller $\\Delta E_\\text{int}$ will be. We can solve for the value of $\\omega_f$ that just barely keeps the rocket from exploding:\n",
    "\n",
    "$$ \\omega_f = \\sqrt{ \\frac{1}{I_f} \\left[  M_r \\left( 1 + \\frac{M_s}{M_r} \\right)^2 \\Delta v^2\n",
    "    + I_s \\omega_i^2 - \\left( M_s + M_r \\right) \\Delta v^2\n",
    "    - 2\\,\\Delta E_\\text{int} \\right] } $$\n",
    "\n",
    "With the scenario's given values and the maximum internal energy rise calculated above, and for the minimum possible collision speed ($\\delta = 0$), this yields:"
   ]
  },
  {
   "cell_type": "code",
   "execution_count": 170,
   "metadata": {},
   "outputs": [
    {
     "name": "stdout",
     "output_type": "stream",
     "text": [
      "The lowest safe post-collision angular speed of the station is 0 rad/s.\n"
     ]
    }
   ],
   "source": [
    "# Calculate minimum post-collision angular speed…\n",
    "def w_min(delta):\n",
    "    Dv_x, Dv_y = Dv(delta)\n",
    "    Dv2 = Dv_x**2 + Dv_y**2\n",
    "    numerator = ( M_r * (1 + M_s/M_r)**2 * Dv2 + I_s * w_i**2\n",
    "        - (M_s + M_r) * Dv2 - 2 * DE_max )\n",
    "    if numerator < 0:\n",
    "        return 0\n",
    "    return sqrt(numerator / I_f)\n",
    "\n",
    "w_min_0 = w_min(0)\n",
    "print(f\"The lowest safe post-collision angular speed of the station is {w_min_0:.4g} rad/s.\")"
   ]
  },
  {
   "cell_type": "markdown",
   "metadata": {},
   "source": [
    "FOr $\\delta = 5$ m/s, the lowest safe angular speed is:"
   ]
  },
  {
   "cell_type": "code",
   "execution_count": 171,
   "metadata": {},
   "outputs": [
    {
     "name": "stdout",
     "output_type": "stream",
     "text": [
      "The lowest safe post-collision angular speed of the station is 0.2476 rad/s.\n"
     ]
    }
   ],
   "source": [
    "print(f\"The lowest safe post-collision angular speed of the station is {w_min(delta):.4g} rad/s.\")"
   ]
  },
  {
   "cell_type": "markdown",
   "metadata": {},
   "source": [
    "## Safe Impact Parameter Range"
   ]
  },
  {
   "cell_type": "markdown",
   "metadata": {},
   "source": [
    "Now that we know the range of safe angular speeds, between \"so slow the rocket explodes\" and \"so fast the crew all black out\", we can figure out what range of impact parameters — i.e., how off-center the rocket's impact path should be — is safe.\n",
    "\n",
    "Conservation of angular momentum is the way to go here, since the station-plus-rocket system experiences no external torques during the collision.\n",
    "\n",
    "$$\\begin{split}\n",
    "&L_i = L_f \\\\\n",
    "& \\qquad L_i = I_s\\,\\omega_i +  M_r\\,v_r\\,b \\\\\n",
    "& \\qquad L_f = I_f\\,\\omega_f \\\\\n",
    "\\Rightarrow \\ &I_f\\, \\omega_f = I_s\\,\\omega_i +  M_r\\,v_r\\,b \\\\\n",
    "\\Rightarrow \\ &b = \\frac{I_f\\, \\omega_f - I_s\\,\\omega_i}{M_r\\,v_r}\n",
    "\\end{split}$$\n",
    "\n",
    "where $b$ is the impact parameter, the perpendicular distance between the rocket's initial path and the station's center. (Again, we're ignoring the fact that the post-collision system rotates about a CM that is slightly offset from the station's center.)\n",
    "\n",
    "For the minimum and maximum angular speeds we found above, the corresponding minimum and maximum impact parameters are:"
   ]
  },
  {
   "cell_type": "code",
   "execution_count": 172,
   "metadata": {},
   "outputs": [
    {
     "name": "stdout",
     "output_type": "stream",
     "text": [
      "The impact parameter should be 0 < b < 63.6 m, compared to a station radius of 85 m.\n"
     ]
    }
   ],
   "source": [
    "# Calculate impact parameter range…\n",
    "def b(w_f, delta):\n",
    "    _, _, vR, _ = rocket_velocity(delta)\n",
    "    return (I_f * w_f - I_s * w_i) / (M_r * vR)\n",
    "\n",
    "b_min = max(0.0, b(w_min(0), 0))\n",
    "b_max = min(R_s, b(w_max, 0))\n",
    "print(f\"The impact parameter should be {b_min:.4g} < b < {b_max:.4g} m,\"\n",
    "      + f\" compared to a station radius of {R_s:.4g} m.\")"
   ]
  },
  {
   "cell_type": "code",
   "execution_count": 173,
   "metadata": {},
   "outputs": [
    {
     "name": "stdout",
     "output_type": "stream",
     "text": [
      "The impact parameter should be 25.68 < b < 55.73 m, compared to a station radius of 85 m.\n"
     ]
    }
   ],
   "source": [
    "b_min_2 = max(0.0, b(w_min(delta), delta))\n",
    "b_max_2 = min(R_s, b(w_max, delta))\n",
    "print(f\"The impact parameter should be {b_min_2:.4g} < b < {b_max_2:.4g} m,\"\n",
    "      + f\" compared to a station radius of {R_s:.4g} m.\")"
   ]
  },
  {
   "cell_type": "markdown",
   "metadata": {},
   "source": [
    "## Summary: The Solution"
   ]
  },
  {
   "cell_type": "code",
   "execution_count": 174,
   "metadata": {},
   "outputs": [
    {
     "name": "stdout",
     "output_type": "stream",
     "text": [
      "For a 5 m/s safety margin over the minimum apojove speed,\n",
      "  - rocket impact speed: 737.3 m/s\n",
      "  - rocket impact angle: 50.09 degrees\n",
      "  - rocket impact parameter: 25.68 < b < 55.73 m, midpoint is 40.71 m\n"
     ]
    }
   ],
   "source": [
    "print(f\"For a {delta:.4g} m/s safety margin over the minimum apojove speed,\")\n",
    "print(f\"  - rocket impact speed: {speed:.4g} m/s\")\n",
    "print(f\"  - rocket impact angle: {rad2deg(angle):.4g} degrees\")\n",
    "print(f\"  - rocket impact parameter: {b_min_2:.4g} < b < {b_max_2:.4g} m, midpoint is {(b_min_2 + b_max_2)/2:.4g} m\")"
   ]
  },
  {
   "cell_type": "markdown",
   "metadata": {},
   "source": [
    "---"
   ]
  }
 ],
 "metadata": {
  "kernelspec": {
   "display_name": "Python 3",
   "language": "python",
   "name": "python3"
  },
  "language_info": {
   "codemirror_mode": {
    "name": "ipython",
    "version": 3
   },
   "file_extension": ".py",
   "mimetype": "text/x-python",
   "name": "python",
   "nbconvert_exporter": "python",
   "pygments_lexer": "ipython3",
   "version": "3.12.2"
  }
 },
 "nbformat": 4,
 "nbformat_minor": 2
}
