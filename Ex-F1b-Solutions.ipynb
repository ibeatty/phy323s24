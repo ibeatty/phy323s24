{
 "cells": [
  {
   "cell_type": "markdown",
   "metadata": {},
   "source": [
    "# Exercises F1b: Vectorcizes — Solutions"
   ]
  },
  {
   "cell_type": "code",
   "execution_count": 64,
   "metadata": {},
   "outputs": [
    {
     "name": "stdout",
     "output_type": "stream",
     "text": [
      "Setup complete.\n"
     ]
    }
   ],
   "source": [
    "# Imports…\n",
    "import math\n",
    "from math import degrees\n",
    "import numpy as np\n",
    "from numpy.linalg import norm\n",
    "\n",
    "# Definitions…\n",
    "i_hat = (x_hat := np.array([1, 0, 0]))\n",
    "j_hat = (y_hat := np.array([0, 1, 0]))\n",
    "k_hat = (z_hat := np.array([0, 0, 1]))\n",
    "\n",
    "print(\"Setup complete.\")"
   ]
  },
  {
   "cell_type": "markdown",
   "metadata": {},
   "source": [
    "## 1. Taylor 1.1"
   ]
  },
  {
   "cell_type": "markdown",
   "metadata": {},
   "source": [
    "_Practice with vector arithmetic._"
   ]
  },
  {
   "cell_type": "code",
   "execution_count": 56,
   "metadata": {},
   "outputs": [
    {
     "name": "stdout",
     "output_type": "stream",
     "text": [
      "b_ + c_ = [2 1 1]\n",
      "\n",
      "5b_ + 2c_ = [7 5 2]\n",
      "\n",
      "b_ . c_ = 1\n",
      "\n",
      "b_ x c_ = [ 1 -1 -1]\n"
     ]
    }
   ],
   "source": [
    "# Calculations…\n",
    "b_ = x_hat + y_hat\n",
    "c_ = x_hat + z_hat\n",
    "\n",
    "print(f\"b_ + c_ = {b_ + c_}\\n\")\n",
    "print(f\"5b_ + 2c_ = {5*b_ + 2*c_}\\n\")\n",
    "print(f\"b_ . c_ = {b_ @ c_}\\n\")\n",
    "print(f\"b_ x c_ = {np.cross(b_, c_)}\")\n"
   ]
  },
  {
   "cell_type": "markdown",
   "metadata": {},
   "source": [
    "## 2. Taylor 1.2"
   ]
  },
  {
   "cell_type": "markdown",
   "metadata": {},
   "source": [
    "_ More practice, alternate notation._"
   ]
  },
  {
   "cell_type": "code",
   "execution_count": 16,
   "metadata": {},
   "outputs": [
    {
     "name": "stdout",
     "output_type": "stream",
     "text": [
      "b_ + c_ = [4 4 4]\n",
      "\n",
      "5b_ - 2c_ = [-1  6 13]\n",
      "\n",
      "b_ . c_ = 10\n",
      "\n",
      "b_ x c_ = [-4  8 -4]\n",
      "\n",
      "b_ - c_ = [-2  0  2]\n"
     ]
    }
   ],
   "source": [
    "# Calculations…\n",
    "b_ = np.array([1, 2, 3])\n",
    "c_ = np.array([3, 2, 1])\n",
    "\n",
    "print(f\"b_ + c_ = {b_ + c_}\\n\")\n",
    "print(f\"5b_ - 2c_ = {5*b_ - 2*c_}\\n\")\n",
    "print(f\"b_ . c_ = {b_ @ c_}\\n\")\n",
    "print(f\"b_ x c_ = {np.cross(b_, c_)}\\n\")\n",
    "print(f\"b_ - c_ = {b_ - c_}\")"
   ]
  },
  {
   "cell_type": "markdown",
   "metadata": {},
   "source": [
    "## 3 Taylor 1.3\n",
    "\n",
    "_Pythagorean theorem in 3D._"
   ]
  },
  {
   "cell_type": "markdown",
   "metadata": {},
   "source": [
    "## 4. Taylor 1.4"
   ]
  },
  {
   "cell_type": "markdown",
   "metadata": {},
   "source": [
    "_A useful trick._\n",
    "\n",
    "Definition of the dot product:\n",
    "\n",
    "$$ \\vec{b} \\cdot \\vec{c} = b \\ c \\ \\cos\\left( \\theta \\right) $$\n",
    "\n",
    "Solving for $\\theta$:\n",
    "\n",
    "$$ \\theta = \\arccos\\left( \\frac{\\vec{b} \\cdot \\vec{c}}{b \\ c} \\right) $$\n",
    "\n",
    "which for the given vectors yields:"
   ]
  },
  {
   "cell_type": "code",
   "execution_count": 41,
   "metadata": {},
   "outputs": [
    {
     "name": "stdout",
     "output_type": "stream",
     "text": [
      "b = 4.583, c = 4.583\n",
      "\n",
      "b . c = 12.000\n",
      "\n",
      "theta = 0.963 rad = 55.150 deg\n"
     ]
    }
   ],
   "source": [
    "# Calculations…\n",
    "b_ = np.array([1, 2, 4])\n",
    "c_ = np.array([4, 2, 1])\n",
    "\n",
    "b, c = norm(b_), norm(c_)\n",
    "print(f\"b = {b:.3f}, c = {c:.3f}\\n\")\n",
    "\n",
    "b_dot_c = b_ @ c_\n",
    "print(f\"b . c = {b_dot_c:.3f}\\n\")\n",
    "\n",
    "theta = np.arccos(b_dot_c / (b * c))\n",
    "\n",
    "print(f\"theta = {theta:.3f} rad = {degrees(theta):.3f} deg\")"
   ]
  },
  {
   "cell_type": "markdown",
   "metadata": {},
   "source": [
    "## 5. Taylor 1.5"
   ]
  },
  {
   "cell_type": "markdown",
   "metadata": {},
   "source": [
    "_Using vectors to make 3D trigonometry easy._"
   ]
  },
  {
   "cell_type": "code",
   "execution_count": 42,
   "metadata": {},
   "outputs": [
    {
     "name": "stdout",
     "output_type": "stream",
     "text": [
      "angle = 1.316 rad = 75.406 deg\n"
     ]
    }
   ],
   "source": [
    "# Calculations…\n",
    "b_ = np.array([1, 1, 1])\n",
    "f_ = np.array([1, 1, 0])\n",
    "\n",
    "angle = np.arccos(b_ @ f_ / (norm(b_) * norm(c_)))\n",
    "print(f\"angle = {angle:.3f} rad = {degrees(angle):.3f} deg\")\n"
   ]
  },
  {
   "cell_type": "markdown",
   "metadata": {},
   "source": [
    "## 6. Taylor 1.8"
   ]
  },
  {
   "cell_type": "markdown",
   "metadata": {},
   "source": [
    "### A) Prove that the dot product is distributive."
   ]
  },
  {
   "cell_type": "markdown",
   "metadata": {},
   "source": [
    "Definition (1.7) in the text says:\n",
    "\n",
    "$$ \\vec{r} \\cdot \\vec{s} = r_1 s_1 + r_2 s_2 + r_3 s_3 $$\n",
    "\n",
    "We know that vector addition can be implemented component-wise as:\n",
    "\n",
    "$$ \\vec{u} + \\vec{v} = \\left( u_1 + v_1,\\ u_2 + v_2,\\ u_3 + v_3 \\right) $$\n",
    "\n",
    "Therefore\n",
    "\n",
    "$$ \\begin{align}\n",
    "    \\vec{r} \\cdot ( \\vec{u} + \\vec{v} ) \n",
    "        &= \\vec{r} \\cdot \\left( u_1 + v_1,\\ u_2 + v_2,\\ u_3 + v_3 \\right) \\\\ \\quad \\notag \\\\\n",
    "        &= \\left( r_1 \\left[u_1 + v_1\\right],\\ r_2 \\left[u_2 + v_2\\right],\\ r_3 \\left[u_3 + v_3\\right] \\right) \\\\ \\quad \\notag \\\\\n",
    "        &= \\left( r_1 u_1 + r_1 v_1,\\ r_2 u_2 + r_2 v_2,\\ r_3 u_3 + r_3 v_3 \\right) \\\\ \\quad \\notag \\\\\n",
    "        &= \\left( r_1 u_1,\\ r_2 u_2,\\ r_3 u_3 \\right) + \\left( r_1 v_1,\\ r_2 v_2,\\ r_3 v_3 \\right) \\\\ \\quad \\notag \\\\\n",
    "        &= \\vec{r} \\cdot \\vec{u} + \\vec{r} \\cdot \\vec{v}\n",
    "\\end{align} $$\n",
    "\n",
    "QED!"
   ]
  },
  {
   "cell_type": "markdown",
   "metadata": {},
   "source": [
    "### B) Prove that the product rule for differentiating products applies to the dot product."
   ]
  },
  {
   "cell_type": "markdown",
   "metadata": {},
   "source": [
    "$$ \\begin{align}\n",
    " \\frac{d}{dt} \\left( \\vec{r} \\cdot \\vec{s} \\right) \n",
    "    &= \\frac{d}{dt} \\left( r_1 s_1 + r_2 s_2 + r_3 s_3 \\right) \\\\ \\quad \\notag \\\\\n",
    "    &= \\frac{d}{dt} \\left( r_1 s_1 \\right) + \\frac{d}{dt} \\left( r_2 s_2 \\right) + \\frac{d}{dt} \\left( r_3 s_3 \\right) \\\\ \\quad \\notag \\\\\n",
    "    &= \\frac{dr_1}{dt} s_1 + r_1 \\frac{ds_1}{dt} + \\frac{dr_2}{dt} s_2 + r_2 \\frac{ds_2}{dt} + \\frac{dr_3}{dt} s_3 + r_3 \\frac{ds_3}{dt} \\\\ \\quad \\notag \\\\\n",
    "    &= \\left( \\frac{dr_1}{dt} s_1 + \\frac{dr_2}{dt} s_2 + \\frac{dr_3}{dt} s_3 \\right) + \\left( r_1 \\frac{ds_1}{dt} + r_2 \\frac{ds_2}{dt} + r_3 \\frac{ds_3}{dt} \\right) \\\\ \\quad \\notag \\\\\n",
    "    &= \\frac{d\\vec{r}}{dt} \\cdot \\vec{s} + \\vec{r} \\cdot \\frac{d\\vec{s}}{dt}\n",
    "\\end{align}$$\n",
    "\n",
    "QED!"
   ]
  },
  {
   "cell_type": "markdown",
   "metadata": {},
   "source": [
    "## 7. Taylor 1.14"
   ]
  },
  {
   "cell_type": "markdown",
   "metadata": {},
   "source": [
    "### Proof:\n",
    "\n",
    "The (very useful) triangle inequality: For any two vectors $\\vec{a}$ and $\\vec{b}$, the magnitude of their sum is less than or equal to the sum of their magnitudes.\n"
   ]
  },
  {
   "cell_type": "markdown",
   "metadata": {},
   "source": [
    "\n",
    "$$ \\begin{align}\n",
    "    \\left| \\vec{a} + \\vec{b} \\right|^2 \n",
    "        &= \\left( a_1 + b_1 \\right)^2 + \\left( a_2 + b_2 \\right)^2 + \\left( a_3 + b_3 \\right)^2 \\\\ \\quad \\notag \\\\\n",
    "        &= a_1^2 + 2 a_1 b_1 + b_1^2 + a_2^2 + 2 a_2 b_2 + b_2^2 + a_3^2 + 2 a_3 b_3 + b_3^2 \\\\ \\quad \\notag \\\\\n",
    "        &= \\left( a_1^2 + a_2^2 + a_3^2 \\right) + \\left( b_1^2 + b_2^2 + b_3^2 \\right) + 2 \\left( a_1 b_1 + a_2 b_2 + a_3 b_3 \\right) \\\\ \\quad \\notag \\\\\n",
    "        &= a^2 + b^2 + 2\\, \\vec{a} \\cdot \\vec{b} \\\\ \\quad \\notag \\\\\n",
    "        \n",
    "\\end{align} $$"
   ]
  },
  {
   "cell_type": "markdown",
   "metadata": {},
   "source": [
    "Meanwhile,\n",
    "\n",
    "$$ \\left(a + b\\right)^2 = a^2 + b^2 + 2\\, a\\, b $$\n",
    "\n",
    "Since $-a\\,b \\le \\vec{a} \\cdot \\vec{b} \\le a\\,b$, it follows that $2\\,\\vec{a} \\cdot \\vec{b} \\le 2\\, a\\, b$, and therefore that\n",
    "\n",
    "$$ \\left| \\vec{a} + \\vec{b} \\right|^2 \\le \\left(a + b\\right)^2 $$"
   ]
  },
  {
   "cell_type": "markdown",
   "metadata": {},
   "source": [
    "Since $\\left| \\vec{a} + \\vec{b} \\right|$ and $\\left(a + b\\right)$ are both non-negative, we can take the square root of both sides of the inequality, and we have\n",
    "\n",
    "$$ \\left| \\vec{a} + \\vec{b} \\right| \\le \\left(a + b\\right) $$\n",
    "\n",
    "QED!"
   ]
  },
  {
   "cell_type": "markdown",
   "metadata": {},
   "source": [
    "### Explanation as to why this should be an intuitively obvious truth:"
   ]
  },
  {
   "cell_type": "markdown",
   "metadata": {},
   "source": [
    "Geometrically: $\\vec{a} + \\vec{b}$ is the hypotenuse of the triangle whose sides are $\\vec{a}$ and $\\vec{b}$. The hypothenuse can never be longer than the sum of the other two sides' lenghts!"
   ]
  },
  {
   "cell_type": "markdown",
   "metadata": {},
   "source": [
    "## 8. Displacement, distance, direction"
   ]
  },
  {
   "cell_type": "markdown",
   "metadata": {},
   "source": [
    "### A) Displacement vector:"
   ]
  },
  {
   "cell_type": "code",
   "execution_count": 47,
   "metadata": {},
   "outputs": [
    {
     "name": "stdout",
     "output_type": "stream",
     "text": [
      "Dr = [-1  1  1] km\n"
     ]
    }
   ],
   "source": [
    "# Calculations…\n",
    "r1_ = np.array([2, -3, 0])\n",
    "r2_ =  np.array([1, -2, 1])\n",
    "Dr = r2_ - r1_\n",
    "print(f\"Dr = {Dr} km\")"
   ]
  },
  {
   "cell_type": "markdown",
   "metadata": {},
   "source": [
    "### B) Distance between:"
   ]
  },
  {
   "cell_type": "code",
   "execution_count": 48,
   "metadata": {},
   "outputs": [
    {
     "name": "stdout",
     "output_type": "stream",
     "text": [
      "distance = 1.732 km\n"
     ]
    }
   ],
   "source": [
    "# Calculations…\n",
    "print(f\"distance = {norm(Dr):.3f} km\")"
   ]
  },
  {
   "cell_type": "markdown",
   "metadata": {},
   "source": [
    "### C) Direction from 1 to 2:"
   ]
  },
  {
   "cell_type": "code",
   "execution_count": 51,
   "metadata": {},
   "outputs": [
    {
     "name": "stdout",
     "output_type": "stream",
     "text": [
      "Dr_hat = [-0.57735027  0.57735027  0.57735027]\n"
     ]
    }
   ],
   "source": [
    "# Calculations…\n",
    "Dr_hat = Dr / norm(Dr)\n",
    "print(f\"Dr_hat = {Dr_hat}\")"
   ]
  },
  {
   "cell_type": "markdown",
   "metadata": {},
   "source": [
    "## 9. Pependicular direction"
   ]
  },
  {
   "cell_type": "code",
   "execution_count": 72,
   "metadata": {},
   "outputs": [
    {
     "name": "stdout",
     "output_type": "stream",
     "text": [
      "A x B_ = [-1 -2 -1]\n",
      "\n",
      "perpendicular unit vector: [-0.40824829 -0.81649658 -0.40824829]\n",
      "\n",
      "Checking orthogonality:\n",
      "  A_ . (A x B_) = 0\n",
      "  B_ . (A x B_) = 0\n"
     ]
    }
   ],
   "source": [
    "# Calculations…\n",
    "A_ = 2 * i_hat - j_hat\n",
    "B_ = i_hat - j_hat + k_hat\n",
    "\n",
    "AxB_ = np.cross(A_, B_)\n",
    "print(f\"A x B_ = {AxB_}\\n\")\n",
    "\n",
    "print(f\"perpendicular unit vector: {AxB_ / norm(AxB_)}\\n\")\n",
    "\n",
    "print(\"Checking orthogonality:\")\n",
    "print(f\"  A_ . (A x B_) = {A_ @ AxB_}\")\n",
    "print(f\"  B_ . (A x B_) = {B_ @ AxB_}\")"
   ]
  }
 ],
 "metadata": {
  "kernelspec": {
   "display_name": "Python 3",
   "language": "python",
   "name": "python3"
  },
  "language_info": {
   "codemirror_mode": {
    "name": "ipython",
    "version": 3
   },
   "file_extension": ".py",
   "mimetype": "text/x-python",
   "name": "python",
   "nbconvert_exporter": "python",
   "pygments_lexer": "ipython3",
   "version": "3.12.0"
  }
 },
 "nbformat": 4,
 "nbformat_minor": 2
}
